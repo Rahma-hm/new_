{
 "cells": [
  {
   "cell_type": "code",
   "execution_count": 1,
   "id": "5a32d1a7-0649-48e2-b9dd-746384c3dafa",
   "metadata": {},
   "outputs": [],
   "source": [
    "from pyspark.context import SparkContext\n",
    "from pyspark.sql.session import SparkSession\n",
    "import json\n",
    "from pyspark import *\n",
    "import pandas as pd"
   ]
  },
  {
   "cell_type": "code",
   "execution_count": 2,
   "id": "64a84e65-6081-41c9-8f7d-4dab25765025",
   "metadata": {},
   "outputs": [],
   "source": [
    "spark = SparkSession.builder.master(\"local\").appName(\"test\").config(\"spark.driver.memory\", \"9g\").getOrCreate()\n",
    "sc = spark.sparkContext\n"
   ]
  },
  {
   "cell_type": "code",
   "execution_count": 11,
   "id": "c56ae67f-8952-49f7-a60d-fc80d5a431fb",
   "metadata": {},
   "outputs": [],
   "source": [
    "#rdd1 = sc.textFile('/user/articles_medium.csv')\n",
    "df_spark = spark.read.csv('/user/articles_medium.csv', sep ='\\t', header = False)"
   ]
  },
  {
   "cell_type": "code",
   "execution_count": 12,
   "id": "08ad4af2-4438-4f46-89d8-22542b12b4be",
   "metadata": {},
   "outputs": [
    {
     "name": "stdout",
     "output_type": "stream",
     "text": [
      "root\n",
      " |-- _c0: string (nullable = true)\n",
      "\n"
     ]
    }
   ],
   "source": [
    "#rdd1\n",
    "df = spark.read.format(\"csv\").load(\"/user/articles_medium.csv\")\n",
    "df_spark.printSchema()"
   ]
  },
  {
   "cell_type": "code",
   "execution_count": 13,
   "id": "9a372a9a-de4d-4f0f-aac5-87e635136e05",
   "metadata": {},
   "outputs": [
    {
     "name": "stdout",
     "output_type": "stream",
     "text": [
      "root\n",
      " |-- _c0: string (nullable = true)\n",
      "\n"
     ]
    }
   ],
   "source": [
    "df.printSchema()"
   ]
  },
  {
   "cell_type": "code",
   "execution_count": null,
   "id": "1dbc50ad-2bf7-4c62-a897-e5b75162bd4b",
   "metadata": {},
   "outputs": [],
   "source": []
  }
 ],
 "metadata": {
  "kernelspec": {
   "display_name": "Python 3",
   "language": "python",
   "name": "python3"
  },
  "language_info": {
   "codemirror_mode": {
    "name": "ipython",
    "version": 3
   },
   "file_extension": ".py",
   "mimetype": "text/x-python",
   "name": "python",
   "nbconvert_exporter": "python",
   "pygments_lexer": "ipython3",
   "version": "3.7.11"
  }
 },
 "nbformat": 4,
 "nbformat_minor": 5
}
