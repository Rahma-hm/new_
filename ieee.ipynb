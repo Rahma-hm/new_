{
 "cells": [
  {
   "cell_type": "code",
   "execution_count": 1,
   "id": "2c1a2975",
   "metadata": {},
   "outputs": [],
   "source": [
    "from selenium import webdriver\n",
    "from selenium.webdriver.common.keys import Keys\n",
    "from selenium.webdriver.support.ui import Select\n",
    "from selenium.webdriver.chrome.options import Options\n",
    "import time\n",
    "from bs4 import BeautifulSoup\n",
    "import requests\n",
    "import pandas as pd"
   ]
  },
  {
   "cell_type": "code",
   "execution_count": 2,
   "id": "c61691e7",
   "metadata": {},
   "outputs": [
    {
     "name": "stderr",
     "output_type": "stream",
     "text": [
      "C:\\Users\\RAHMAH~1\\AppData\\Local\\Temp/ipykernel_20756/3138230321.py:7: DeprecationWarning: executable_path has been deprecated, please pass in a Service object\n",
      "  driver = webdriver.Chrome(r\"C:\\Program Files\\dirivercrome\\chromedriver.exe\",chrome_options=chrome_options)\n",
      "C:\\Users\\RAHMAH~1\\AppData\\Local\\Temp/ipykernel_20756/3138230321.py:7: DeprecationWarning: use options instead of chrome_options\n",
      "  driver = webdriver.Chrome(r\"C:\\Program Files\\dirivercrome\\chromedriver.exe\",chrome_options=chrome_options)\n"
     ]
    },
    {
     "name": "stdout",
     "output_type": "stream",
     "text": [
      "keyword :metaverse\n",
      "year: 2022\n"
     ]
    },
    {
     "name": "stderr",
     "output_type": "stream",
     "text": [
      "C:\\Users\\RAHMAH~1\\AppData\\Local\\Temp/ipykernel_20756/3138230321.py:17: DeprecationWarning: find_element_by_link_text is deprecated. Please use find_element(by=By.LINK_TEXT, value=link_text) instead\n",
      "  close_cookies = driver.find_element_by_link_text('Accept & Close')\n"
     ]
    }
   ],
   "source": [
    "#open googlle scholar\n",
    "chrome_options = Options()\n",
    "chrome_options.add_argument(\"--start-maximized\")\n",
    "#chrome_options.add_argument('--disable-popup-blocking')\n",
    "#prefs = {\"profile.managed_default_content_settings.images\": 2}\n",
    "#chrome_options.add_experimental_option(\"prefs\", prefs)\n",
    "driver = webdriver.Chrome(r\"C:\\Program Files\\dirivercrome\\chromedriver.exe\",chrome_options=chrome_options)\n",
    "#driver2 = webdriver.Chrome(r\"C:\\Users\\Rahma\\chromedriver\\chromedriver.exe\",chrome_options=chrome_options)\n",
    "keyword = input(\"keyword :\")\n",
    "def keyword_with_space(keyword):\n",
    "    keyword_with_space = keyword.replace(\" \", \"%20\")\n",
    "    return keyword_with_space\n",
    "year = input(\"year: \")\n",
    "page = \"https://ieeexplore.ieee.org/search/searchresult.jsp?queryText=\"+keyword_with_space(keyword)+\"&highlight=true&returnFacets=ALL&returnType=SEARCH&matchPubs=true&ranges=\"+year+\"_\"+year+\"_Year&sortType=newest\"\n",
    "driver.get(page)\n",
    "driver.implicitly_wait(15)\n",
    "close_cookies = driver.find_element_by_link_text('Accept & Close')\n",
    "close_cookies.click()\n",
    "def get_list_of_links():\n",
    "    listOfLink=[]\n",
    "    condition = True\n",
    "    i=1\n",
    "    j=2\n",
    "    while condition and j>0:\n",
    "        list_items = driver.find_elements_by_class_name('List-results-items')\n",
    "        for result in list_items:\n",
    "             listOfLink.append(result.find_element_by_tag_name('h2').find_element_by_tag_name('a').get_property('href'))\n",
    "        i = i+1\n",
    "        try:\n",
    "            #print('true')\n",
    "            driver.get(page+'&pageNumber='+str(i))\n",
    "        except:\n",
    "            condition = False\n",
    "        j=j-1\n",
    "    return listOfLink\n",
    "\n",
    "def get_text_abstract():\n",
    "    list_abstract=[]\n",
    "    for l in get_list_of_links():\n",
    "        driver.get(l)\n",
    "        try:\n",
    "            abstract =driver.find_element_by_xpath('/html/body/div[5]/div/div/div/div[3]/div/xpl-root/div/xpl-document-details/div/div[1]/div/div[2]/section/div[2]/div/xpl-document-abstract/section/div[3]/div[1]/div/div/div').text\n",
    "            \n",
    "            list_abstract.append(abstract)\n",
    "        except :\n",
    "             list_abstract.append(\" \")\n",
    "             \n",
    "    return list_abstract\n",
    "\n",
    "def get_title():\n",
    "    titles =[]\n",
    "    for l in get_list_of_links():\n",
    "        try:\n",
    "            driver.get(l)\n",
    "            title =driver.find_element_by_tag_name('h1').text\n",
    "            titles.append(title)\n",
    "        except:\n",
    "            titles.append(\" \")\n",
    "            \n",
    "    return titles\n",
    "\n",
    "def get_date():\n",
    "    dates =[]\n",
    "    for l in get_list_of_links():\n",
    "        try:\n",
    "            driver.get(l)\n",
    "            date =driver.find_element_by_xpath('//*[@id=\"LayoutWrapper\"]/div/div/div/div[3]/div/xpl-root/div/xpl-document-details/div/div[1]/div/div[2]/section/div[2]/div/xpl-document-abstract/section/div[3]/div[3]/div[1]/div[2]').text\n",
    "            dates.append(date)\n",
    "        except:\n",
    "            dates.append(\" \")\n",
    "            \n",
    "    return dates\n",
    "\n"
   ]
  },
  {
   "cell_type": "code",
   "execution_count": 3,
   "id": "a70c0e17",
   "metadata": {},
   "outputs": [],
   "source": [
    "def get_list_of_links():\n",
    "    listOfLink=[]\n",
    "    condition = True\n",
    "    i=1\n",
    "    j=3\n",
    "    while condition and j>0:\n",
    "        list_items = driver.find_elements_by_class_name('List-results-items')\n",
    "        for result in list_items:\n",
    "             listOfLink.append(result.find_element_by_tag_name('h2').find_element_by_tag_name('a').get_property('href'))\n",
    "        i = i+1\n",
    "        try:\n",
    "            #print('true')\n",
    "            driver.get(page+'&pageNumber='+str(i))\n",
    "        except:\n",
    "            condition = False\n",
    "        j=j-1\n",
    "    return listOfLink"
   ]
  },
  {
   "cell_type": "code",
   "execution_count": 13,
   "id": "3a584016",
   "metadata": {},
   "outputs": [],
   "source": [
    "\n"
   ]
  },
  {
   "cell_type": "code",
   "execution_count": 16,
   "id": "6d6c3d86",
   "metadata": {},
   "outputs": [],
   "source": [
    "def get_keywords():\n",
    "    keywords =[]\n",
    "    for l in get_list_of_links():\n",
    "        try:\n",
    "            driver.get(l+'keywords#keywords')\n",
    "            keyword =driver.find_element_by_xpath('/html/body/div[5]/div/div/div/div[3]/div/xpl-root/div/xpl-document-details/div/div[1]/div/div[2]/section/div[2]/xpl-accordian-section/div/xpl-document-accordion/div[4]/div[2]').text\n",
    "            keywords.append(keyword)\n",
    "        except:\n",
    "            keywords.append(\" \")\n",
    "            \n",
    "    return keywords"
   ]
  },
  {
   "cell_type": "code",
   "execution_count": 20,
   "id": "da38627a",
   "metadata": {},
   "outputs": [],
   "source": [
    "def get_date():\n",
    "    dates =[]\n",
    "    for l in get_list_of_links():\n",
    "        try:\n",
    "            driver.get(l)\n",
    "            date =driver.find_element_by_xpath('//*[@id=\"LayoutWrapper\"]/div/div/div/div[3]/div/xpl-root/div/xpl-document-details/div/div[1]/div/div[2]/section/div[2]/div/xpl-document-abstract/section/div[3]/div[3]/div[1]/div[2]').text\n",
    "            dates.append(date)\n",
    "        except:\n",
    "            dates.append(\" \")\n",
    "            \n",
    "    return dates"
   ]
  },
  {
   "cell_type": "code",
   "execution_count": 7,
   "id": "657f72a6",
   "metadata": {},
   "outputs": [],
   "source": [
    "def get_keywords():\n",
    "    keywords =[]\n",
    "    for l in get_list_of_links():\n",
    "        try:\n",
    "            driver.get(l+'keywords#keywords')\n",
    "            keyword =driver.find_element_by_xpath('/html/body/div[5]/div/div/div/div[3]/div/xpl-root/div/xpl-document-details/div/div[1]/div/div[2]/section/div[2]/xpl-accordian-section/div/xpl-document-accordion/div[4]/div[2]/xpl-document-keyword-list/section/div/ul/li[1]').text\n",
    "            keywords.append(keyword)\n",
    "        except:\n",
    "            keywords.append(\" \")\n",
    "            \n",
    "    return keywords"
   ]
  },
  {
   "cell_type": "code",
   "execution_count": 4,
   "id": "3f57b77f",
   "metadata": {},
   "outputs": [
    {
     "name": "stderr",
     "output_type": "stream",
     "text": [
      "C:\\Users\\RAHMAH~1\\AppData\\Local\\Temp/ipykernel_20756/3138230321.py:25: DeprecationWarning: find_elements_by_class_name is deprecated. Please use find_elements(by=By.CLASS_NAME, value=name) instead\n",
      "  list_items = driver.find_elements_by_class_name('List-results-items')\n",
      "C:\\Users\\RahmaHammami\\anaconda3\\lib\\site-packages\\selenium\\webdriver\\remote\\webelement.py:341: UserWarning: find_element_by_tag_name is deprecated. Please use find_element(by=By.TAG_NAME, value=name) instead\n",
      "  warnings.warn(\"find_element_by_tag_name is deprecated. Please use find_element(by=By.TAG_NAME, value=name) instead\")\n",
      "C:\\Users\\RAHMAH~1\\AppData\\Local\\Temp/ipykernel_20756/3138230321.py:42: DeprecationWarning: find_element_by_xpath is deprecated. Please use find_element(by=By.XPATH, value=xpath) instead\n",
      "  abstract =driver.find_element_by_xpath('/html/body/div[5]/div/div/div/div[3]/div/xpl-root/div/xpl-document-details/div/div[1]/div/div[2]/section/div[2]/div/xpl-document-abstract/section/div[3]/div[1]/div/div/div').text\n"
     ]
    },
    {
     "ename": "ValueError",
     "evalue": "All arrays must be of the same length",
     "output_type": "error",
     "traceback": [
      "\u001b[1;31m---------------------------------------------------------------------------\u001b[0m",
      "\u001b[1;31mValueError\u001b[0m                                Traceback (most recent call last)",
      "\u001b[1;32mC:\\Users\\RAHMAH~1\\AppData\\Local\\Temp/ipykernel_20756/2803726756.py\u001b[0m in \u001b[0;36m<module>\u001b[1;34m\u001b[0m\n\u001b[1;32m----> 1\u001b[1;33m \u001b[0mieee_articles\u001b[0m \u001b[1;33m=\u001b[0m \u001b[0mpd\u001b[0m\u001b[1;33m.\u001b[0m\u001b[0mDataFrame\u001b[0m\u001b[1;33m(\u001b[0m\u001b[1;33m{\u001b[0m\u001b[1;34m'Abstract'\u001b[0m\u001b[1;33m:\u001b[0m\u001b[0mget_text_abstract\u001b[0m\u001b[1;33m(\u001b[0m\u001b[1;33m)\u001b[0m\u001b[1;33m,\u001b[0m\u001b[1;34m'Title'\u001b[0m\u001b[1;33m:\u001b[0m\u001b[0mget_title\u001b[0m\u001b[1;33m(\u001b[0m\u001b[1;33m)\u001b[0m\u001b[1;33m,\u001b[0m\u001b[1;34m'Date'\u001b[0m\u001b[1;33m:\u001b[0m \u001b[0mget_date\u001b[0m\u001b[1;33m(\u001b[0m\u001b[1;33m)\u001b[0m\u001b[1;33m}\u001b[0m\u001b[1;33m)\u001b[0m\u001b[1;33m\u001b[0m\u001b[1;33m\u001b[0m\u001b[0m\n\u001b[0m",
      "\u001b[1;32m~\\anaconda3\\lib\\site-packages\\pandas\\core\\frame.py\u001b[0m in \u001b[0;36m__init__\u001b[1;34m(self, data, index, columns, dtype, copy)\u001b[0m\n\u001b[0;32m    612\u001b[0m         \u001b[1;32melif\u001b[0m \u001b[0misinstance\u001b[0m\u001b[1;33m(\u001b[0m\u001b[0mdata\u001b[0m\u001b[1;33m,\u001b[0m \u001b[0mdict\u001b[0m\u001b[1;33m)\u001b[0m\u001b[1;33m:\u001b[0m\u001b[1;33m\u001b[0m\u001b[1;33m\u001b[0m\u001b[0m\n\u001b[0;32m    613\u001b[0m             \u001b[1;31m# GH#38939 de facto copy defaults to False only in non-dict cases\u001b[0m\u001b[1;33m\u001b[0m\u001b[1;33m\u001b[0m\u001b[0m\n\u001b[1;32m--> 614\u001b[1;33m             \u001b[0mmgr\u001b[0m \u001b[1;33m=\u001b[0m \u001b[0mdict_to_mgr\u001b[0m\u001b[1;33m(\u001b[0m\u001b[0mdata\u001b[0m\u001b[1;33m,\u001b[0m \u001b[0mindex\u001b[0m\u001b[1;33m,\u001b[0m \u001b[0mcolumns\u001b[0m\u001b[1;33m,\u001b[0m \u001b[0mdtype\u001b[0m\u001b[1;33m=\u001b[0m\u001b[0mdtype\u001b[0m\u001b[1;33m,\u001b[0m \u001b[0mcopy\u001b[0m\u001b[1;33m=\u001b[0m\u001b[0mcopy\u001b[0m\u001b[1;33m,\u001b[0m \u001b[0mtyp\u001b[0m\u001b[1;33m=\u001b[0m\u001b[0mmanager\u001b[0m\u001b[1;33m)\u001b[0m\u001b[1;33m\u001b[0m\u001b[1;33m\u001b[0m\u001b[0m\n\u001b[0m\u001b[0;32m    615\u001b[0m         \u001b[1;32melif\u001b[0m \u001b[0misinstance\u001b[0m\u001b[1;33m(\u001b[0m\u001b[0mdata\u001b[0m\u001b[1;33m,\u001b[0m \u001b[0mma\u001b[0m\u001b[1;33m.\u001b[0m\u001b[0mMaskedArray\u001b[0m\u001b[1;33m)\u001b[0m\u001b[1;33m:\u001b[0m\u001b[1;33m\u001b[0m\u001b[1;33m\u001b[0m\u001b[0m\n\u001b[0;32m    616\u001b[0m             \u001b[1;32mimport\u001b[0m \u001b[0mnumpy\u001b[0m\u001b[1;33m.\u001b[0m\u001b[0mma\u001b[0m\u001b[1;33m.\u001b[0m\u001b[0mmrecords\u001b[0m \u001b[1;32mas\u001b[0m \u001b[0mmrecords\u001b[0m\u001b[1;33m\u001b[0m\u001b[1;33m\u001b[0m\u001b[0m\n",
      "\u001b[1;32m~\\anaconda3\\lib\\site-packages\\pandas\\core\\internals\\construction.py\u001b[0m in \u001b[0;36mdict_to_mgr\u001b[1;34m(data, index, columns, dtype, typ, copy)\u001b[0m\n\u001b[0;32m    462\u001b[0m         \u001b[1;31m# TODO: can we get rid of the dt64tz special case above?\u001b[0m\u001b[1;33m\u001b[0m\u001b[1;33m\u001b[0m\u001b[0m\n\u001b[0;32m    463\u001b[0m \u001b[1;33m\u001b[0m\u001b[0m\n\u001b[1;32m--> 464\u001b[1;33m     return arrays_to_mgr(\n\u001b[0m\u001b[0;32m    465\u001b[0m         \u001b[0marrays\u001b[0m\u001b[1;33m,\u001b[0m \u001b[0mdata_names\u001b[0m\u001b[1;33m,\u001b[0m \u001b[0mindex\u001b[0m\u001b[1;33m,\u001b[0m \u001b[0mcolumns\u001b[0m\u001b[1;33m,\u001b[0m \u001b[0mdtype\u001b[0m\u001b[1;33m=\u001b[0m\u001b[0mdtype\u001b[0m\u001b[1;33m,\u001b[0m \u001b[0mtyp\u001b[0m\u001b[1;33m=\u001b[0m\u001b[0mtyp\u001b[0m\u001b[1;33m,\u001b[0m \u001b[0mconsolidate\u001b[0m\u001b[1;33m=\u001b[0m\u001b[0mcopy\u001b[0m\u001b[1;33m\u001b[0m\u001b[1;33m\u001b[0m\u001b[0m\n\u001b[0;32m    466\u001b[0m     )\n",
      "\u001b[1;32m~\\anaconda3\\lib\\site-packages\\pandas\\core\\internals\\construction.py\u001b[0m in \u001b[0;36marrays_to_mgr\u001b[1;34m(arrays, arr_names, index, columns, dtype, verify_integrity, typ, consolidate)\u001b[0m\n\u001b[0;32m    117\u001b[0m         \u001b[1;31m# figure out the index, if necessary\u001b[0m\u001b[1;33m\u001b[0m\u001b[1;33m\u001b[0m\u001b[0m\n\u001b[0;32m    118\u001b[0m         \u001b[1;32mif\u001b[0m \u001b[0mindex\u001b[0m \u001b[1;32mis\u001b[0m \u001b[1;32mNone\u001b[0m\u001b[1;33m:\u001b[0m\u001b[1;33m\u001b[0m\u001b[1;33m\u001b[0m\u001b[0m\n\u001b[1;32m--> 119\u001b[1;33m             \u001b[0mindex\u001b[0m \u001b[1;33m=\u001b[0m \u001b[0m_extract_index\u001b[0m\u001b[1;33m(\u001b[0m\u001b[0marrays\u001b[0m\u001b[1;33m)\u001b[0m\u001b[1;33m\u001b[0m\u001b[1;33m\u001b[0m\u001b[0m\n\u001b[0m\u001b[0;32m    120\u001b[0m         \u001b[1;32melse\u001b[0m\u001b[1;33m:\u001b[0m\u001b[1;33m\u001b[0m\u001b[1;33m\u001b[0m\u001b[0m\n\u001b[0;32m    121\u001b[0m             \u001b[0mindex\u001b[0m \u001b[1;33m=\u001b[0m \u001b[0mensure_index\u001b[0m\u001b[1;33m(\u001b[0m\u001b[0mindex\u001b[0m\u001b[1;33m)\u001b[0m\u001b[1;33m\u001b[0m\u001b[1;33m\u001b[0m\u001b[0m\n",
      "\u001b[1;32m~\\anaconda3\\lib\\site-packages\\pandas\\core\\internals\\construction.py\u001b[0m in \u001b[0;36m_extract_index\u001b[1;34m(data)\u001b[0m\n\u001b[0;32m    633\u001b[0m             \u001b[0mlengths\u001b[0m \u001b[1;33m=\u001b[0m \u001b[0mlist\u001b[0m\u001b[1;33m(\u001b[0m\u001b[0mset\u001b[0m\u001b[1;33m(\u001b[0m\u001b[0mraw_lengths\u001b[0m\u001b[1;33m)\u001b[0m\u001b[1;33m)\u001b[0m\u001b[1;33m\u001b[0m\u001b[1;33m\u001b[0m\u001b[0m\n\u001b[0;32m    634\u001b[0m             \u001b[1;32mif\u001b[0m \u001b[0mlen\u001b[0m\u001b[1;33m(\u001b[0m\u001b[0mlengths\u001b[0m\u001b[1;33m)\u001b[0m \u001b[1;33m>\u001b[0m \u001b[1;36m1\u001b[0m\u001b[1;33m:\u001b[0m\u001b[1;33m\u001b[0m\u001b[1;33m\u001b[0m\u001b[0m\n\u001b[1;32m--> 635\u001b[1;33m                 \u001b[1;32mraise\u001b[0m \u001b[0mValueError\u001b[0m\u001b[1;33m(\u001b[0m\u001b[1;34m\"All arrays must be of the same length\"\u001b[0m\u001b[1;33m)\u001b[0m\u001b[1;33m\u001b[0m\u001b[1;33m\u001b[0m\u001b[0m\n\u001b[0m\u001b[0;32m    636\u001b[0m \u001b[1;33m\u001b[0m\u001b[0m\n\u001b[0;32m    637\u001b[0m             \u001b[1;32mif\u001b[0m \u001b[0mhave_dicts\u001b[0m\u001b[1;33m:\u001b[0m\u001b[1;33m\u001b[0m\u001b[1;33m\u001b[0m\u001b[0m\n",
      "\u001b[1;31mValueError\u001b[0m: All arrays must be of the same length"
     ]
    }
   ],
   "source": [
    "ieee_articles = pd.DataFrame({'Abstract':get_text_abstract(),'Title':get_title(),'Date': get_date()})"
   ]
  },
  {
   "cell_type": "code",
   "execution_count": null,
   "id": "f6d160cb",
   "metadata": {},
   "outputs": [],
   "source": [
    "ieee_articles"
   ]
  },
  {
   "cell_type": "code",
   "execution_count": 26,
   "id": "8b2b339f",
   "metadata": {},
   "outputs": [],
   "source": [
    "ieee_articles.to_excel('articles_ieee.xlsx', index =False)"
   ]
  },
  {
   "cell_type": "code",
   "execution_count": null,
   "id": "8ca8078a",
   "metadata": {},
   "outputs": [],
   "source": []
  }
 ],
 "metadata": {
  "kernelspec": {
   "display_name": "Python 3",
   "language": "python",
   "name": "python3"
  },
  "language_info": {
   "codemirror_mode": {
    "name": "ipython",
    "version": 3
   },
   "file_extension": ".py",
   "mimetype": "text/x-python",
   "name": "python",
   "nbconvert_exporter": "python",
   "pygments_lexer": "ipython3",
   "version": "3.7.11"
  }
 },
 "nbformat": 4,
 "nbformat_minor": 5
}
