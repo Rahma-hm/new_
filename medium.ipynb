{
 "cells": [
  {
   "cell_type": "code",
   "execution_count": 1,
   "id": "34b09f96",
   "metadata": {},
   "outputs": [],
   "source": [
    "from selenium import webdriver\n",
    "from selenium.webdriver.common.keys import Keys\n",
    "from selenium.webdriver.support.ui import Select\n",
    "from selenium.webdriver.chrome.options import Options\n",
    "import time\n",
    "from bs4 import BeautifulSoup\n",
    "import requests\n",
    "import pandas as pd\n",
    "import chromedriver_autoinstaller\n"
   ]
  },
  {
   "cell_type": "code",
   "execution_count": 9,
   "id": "1e8f2c89-62d1-4fc1-b056-3cb8672d6075",
   "metadata": {},
   "outputs": [
    {
     "name": "stdout",
     "output_type": "stream",
     "text": [
      "Collecting chromedriver-autoinstaller\n",
      "  Downloading chromedriver_autoinstaller-0.3.1-py3-none-any.whl (6.3 kB)\n",
      "Installing collected packages: chromedriver-autoinstaller\n",
      "Successfully installed chromedriver-autoinstaller-0.3.1\n",
      "\u001b[33mWARNING: Running pip as the 'root' user can result in broken permissions and conflicting behaviour with the system package manager. It is recommended to use a virtual environment instead: https://pip.pypa.io/warnings/venv\u001b[0m\n",
      "\u001b[33mWARNING: You are using pip version 21.2.4; however, version 22.0.4 is available.\n",
      "You should consider upgrading via the '/usr/local/conda/bin/python -m pip install --upgrade pip' command.\u001b[0m\n",
      "Note: you may need to restart the kernel to use updated packages.\n"
     ]
    }
   ],
   "source": [
    "#pip install chromedriver-autoinstaller"
   ]
  },
  {
   "cell_type": "code",
   "execution_count": 4,
   "id": "5455a87a-40ac-41a3-bced-b27b93d2ac4e",
   "metadata": {},
   "outputs": [
    {
     "name": "stderr",
     "output_type": "stream",
     "text": [
      "\n",
      "\n",
      "====== WebDriver manager ======\n",
      "Could not get version for google-chrome.Is google-chrome installed?\n",
      "Get LATEST chromedriver version for None google-chrome\n",
      "Driver [/root/.wdm/drivers/chromedriver/linux64/101.0.4951.41/chromedriver] found in cache\n",
      "/usr/local/conda/lib/python3.7/site-packages/ipykernel_launcher.py:10: DeprecationWarning: executable_path has been deprecated, please pass in a Service object\n",
      "  # Remove the CWD from sys.path while we load stuff.\n"
     ]
    },
    {
     "ename": "WebDriverException",
     "evalue": "Message: unknown error: cannot find Chrome binary\nStacktrace:\n#0 0x55aea493d533 <unknown>\n#1 0x55aea469c1e8 <unknown>\n#2 0x55aea46bd469 <unknown>\n#3 0x55aea46bac4a <unknown>\n#4 0x55aea46f5d0a <unknown>\n#5 0x55aea46efe33 <unknown>\n#6 0x55aea46c571a <unknown>\n#7 0x55aea46c6875 <unknown>\n#8 0x55aea4981e1d <unknown>\n#9 0x55aea4985751 <unknown>\n#10 0x55aea496c07e <unknown>\n#11 0x55aea4986388 <unknown>\n#12 0x55aea4960fe0 <unknown>\n#13 0x55aea49a2748 <unknown>\n#14 0x55aea49a28c8 <unknown>\n#15 0x55aea49bc70d <unknown>\n#16 0x7f673db2a609 <unknown>\n",
     "output_type": "error",
     "traceback": [
      "\u001b[0;31m---------------------------------------------------------------------------\u001b[0m",
      "\u001b[0;31mWebDriverException\u001b[0m                        Traceback (most recent call last)",
      "\u001b[0;32m<ipython-input-4-5655ffc911a3>\u001b[0m in \u001b[0;36m<module>\u001b[0;34m\u001b[0m\n\u001b[1;32m      8\u001b[0m \u001b[0;31m#prefs = {\"profile.managed_default_content_settings.images\": 2}\u001b[0m\u001b[0;34m\u001b[0m\u001b[0;34m\u001b[0m\u001b[0;34m\u001b[0m\u001b[0m\n\u001b[1;32m      9\u001b[0m \u001b[0;31m#chrome_options.add_experimental_option(\"prefs\", prefs)\u001b[0m\u001b[0;34m\u001b[0m\u001b[0;34m\u001b[0m\u001b[0;34m\u001b[0m\u001b[0m\n\u001b[0;32m---> 10\u001b[0;31m \u001b[0mdriver\u001b[0m \u001b[0;34m=\u001b[0m \u001b[0mwebdriver\u001b[0m\u001b[0;34m.\u001b[0m\u001b[0mChrome\u001b[0m\u001b[0;34m(\u001b[0m\u001b[0mChromeDriverManager\u001b[0m\u001b[0;34m(\u001b[0m\u001b[0;34m)\u001b[0m\u001b[0;34m.\u001b[0m\u001b[0minstall\u001b[0m\u001b[0;34m(\u001b[0m\u001b[0;34m)\u001b[0m\u001b[0;34m)\u001b[0m\u001b[0;34m\u001b[0m\u001b[0;34m\u001b[0m\u001b[0m\n\u001b[0m\u001b[1;32m     11\u001b[0m \u001b[0;31m#driver2 = webdriver.Chrome(r\"C:\\Users\\Rahma\\chromedriver\\chromedriver.exe\",chrome_options=chrome_options)\u001b[0m\u001b[0;34m\u001b[0m\u001b[0;34m\u001b[0m\u001b[0;34m\u001b[0m\u001b[0m\n\u001b[1;32m     12\u001b[0m \u001b[0mkeyword\u001b[0m \u001b[0;34m=\u001b[0m \u001b[0minput\u001b[0m\u001b[0;34m(\u001b[0m\u001b[0;34m\"keyword :\"\u001b[0m\u001b[0;34m)\u001b[0m\u001b[0;34m\u001b[0m\u001b[0;34m\u001b[0m\u001b[0m\n",
      "\u001b[0;32m/usr/local/conda/lib/python3.7/site-packages/selenium/webdriver/chrome/webdriver.py\u001b[0m in \u001b[0;36m__init__\u001b[0;34m(self, executable_path, port, options, service_args, desired_capabilities, service_log_path, chrome_options, service, keep_alive)\u001b[0m\n\u001b[1;32m     71\u001b[0m                                         \u001b[0mport\u001b[0m\u001b[0;34m,\u001b[0m \u001b[0moptions\u001b[0m\u001b[0;34m,\u001b[0m\u001b[0;34m\u001b[0m\u001b[0;34m\u001b[0m\u001b[0m\n\u001b[1;32m     72\u001b[0m                                         \u001b[0mservice_args\u001b[0m\u001b[0;34m,\u001b[0m \u001b[0mdesired_capabilities\u001b[0m\u001b[0;34m,\u001b[0m\u001b[0;34m\u001b[0m\u001b[0;34m\u001b[0m\u001b[0m\n\u001b[0;32m---> 73\u001b[0;31m                                         service_log_path, service, keep_alive)\n\u001b[0m",
      "\u001b[0;32m/usr/local/conda/lib/python3.7/site-packages/selenium/webdriver/chromium/webdriver.py\u001b[0m in \u001b[0;36m__init__\u001b[0;34m(self, browser_name, vendor_prefix, port, options, service_args, desired_capabilities, service_log_path, service, keep_alive)\u001b[0m\n\u001b[1;32m     97\u001b[0m                     \u001b[0mbrowser_name\u001b[0m\u001b[0;34m=\u001b[0m\u001b[0mbrowser_name\u001b[0m\u001b[0;34m,\u001b[0m \u001b[0mvendor_prefix\u001b[0m\u001b[0;34m=\u001b[0m\u001b[0mvendor_prefix\u001b[0m\u001b[0;34m,\u001b[0m\u001b[0;34m\u001b[0m\u001b[0;34m\u001b[0m\u001b[0m\n\u001b[1;32m     98\u001b[0m                     keep_alive=keep_alive, ignore_proxy=_ignore_proxy),\n\u001b[0;32m---> 99\u001b[0;31m                 options=options)\n\u001b[0m\u001b[1;32m    100\u001b[0m         \u001b[0;32mexcept\u001b[0m \u001b[0mException\u001b[0m\u001b[0;34m:\u001b[0m\u001b[0;34m\u001b[0m\u001b[0;34m\u001b[0m\u001b[0m\n\u001b[1;32m    101\u001b[0m             \u001b[0mself\u001b[0m\u001b[0;34m.\u001b[0m\u001b[0mquit\u001b[0m\u001b[0;34m(\u001b[0m\u001b[0;34m)\u001b[0m\u001b[0;34m\u001b[0m\u001b[0;34m\u001b[0m\u001b[0m\n",
      "\u001b[0;32m/usr/local/conda/lib/python3.7/site-packages/selenium/webdriver/remote/webdriver.py\u001b[0m in \u001b[0;36m__init__\u001b[0;34m(self, command_executor, desired_capabilities, browser_profile, proxy, keep_alive, file_detector, options)\u001b[0m\n\u001b[1;32m    267\u001b[0m         \u001b[0mself\u001b[0m\u001b[0;34m.\u001b[0m\u001b[0mfile_detector\u001b[0m \u001b[0;34m=\u001b[0m \u001b[0mfile_detector\u001b[0m \u001b[0;32mor\u001b[0m \u001b[0mLocalFileDetector\u001b[0m\u001b[0;34m(\u001b[0m\u001b[0;34m)\u001b[0m\u001b[0;34m\u001b[0m\u001b[0;34m\u001b[0m\u001b[0m\n\u001b[1;32m    268\u001b[0m         \u001b[0mself\u001b[0m\u001b[0;34m.\u001b[0m\u001b[0mstart_client\u001b[0m\u001b[0;34m(\u001b[0m\u001b[0;34m)\u001b[0m\u001b[0;34m\u001b[0m\u001b[0;34m\u001b[0m\u001b[0m\n\u001b[0;32m--> 269\u001b[0;31m         \u001b[0mself\u001b[0m\u001b[0;34m.\u001b[0m\u001b[0mstart_session\u001b[0m\u001b[0;34m(\u001b[0m\u001b[0mcapabilities\u001b[0m\u001b[0;34m,\u001b[0m \u001b[0mbrowser_profile\u001b[0m\u001b[0;34m)\u001b[0m\u001b[0;34m\u001b[0m\u001b[0;34m\u001b[0m\u001b[0m\n\u001b[0m\u001b[1;32m    270\u001b[0m \u001b[0;34m\u001b[0m\u001b[0m\n\u001b[1;32m    271\u001b[0m     \u001b[0;32mdef\u001b[0m \u001b[0m__repr__\u001b[0m\u001b[0;34m(\u001b[0m\u001b[0mself\u001b[0m\u001b[0;34m)\u001b[0m\u001b[0;34m:\u001b[0m\u001b[0;34m\u001b[0m\u001b[0;34m\u001b[0m\u001b[0m\n",
      "\u001b[0;32m/usr/local/conda/lib/python3.7/site-packages/selenium/webdriver/remote/webdriver.py\u001b[0m in \u001b[0;36mstart_session\u001b[0;34m(self, capabilities, browser_profile)\u001b[0m\n\u001b[1;32m    358\u001b[0m         parameters = {\"capabilities\": w3c_caps,\n\u001b[1;32m    359\u001b[0m                       \"desiredCapabilities\": capabilities}\n\u001b[0;32m--> 360\u001b[0;31m         \u001b[0mresponse\u001b[0m \u001b[0;34m=\u001b[0m \u001b[0mself\u001b[0m\u001b[0;34m.\u001b[0m\u001b[0mexecute\u001b[0m\u001b[0;34m(\u001b[0m\u001b[0mCommand\u001b[0m\u001b[0;34m.\u001b[0m\u001b[0mNEW_SESSION\u001b[0m\u001b[0;34m,\u001b[0m \u001b[0mparameters\u001b[0m\u001b[0;34m)\u001b[0m\u001b[0;34m\u001b[0m\u001b[0;34m\u001b[0m\u001b[0m\n\u001b[0m\u001b[1;32m    361\u001b[0m         \u001b[0;32mif\u001b[0m \u001b[0;34m'sessionId'\u001b[0m \u001b[0;32mnot\u001b[0m \u001b[0;32min\u001b[0m \u001b[0mresponse\u001b[0m\u001b[0;34m:\u001b[0m\u001b[0;34m\u001b[0m\u001b[0;34m\u001b[0m\u001b[0m\n\u001b[1;32m    362\u001b[0m             \u001b[0mresponse\u001b[0m \u001b[0;34m=\u001b[0m \u001b[0mresponse\u001b[0m\u001b[0;34m[\u001b[0m\u001b[0;34m'value'\u001b[0m\u001b[0;34m]\u001b[0m\u001b[0;34m\u001b[0m\u001b[0;34m\u001b[0m\u001b[0m\n",
      "\u001b[0;32m/usr/local/conda/lib/python3.7/site-packages/selenium/webdriver/remote/webdriver.py\u001b[0m in \u001b[0;36mexecute\u001b[0;34m(self, driver_command, params)\u001b[0m\n\u001b[1;32m    423\u001b[0m         \u001b[0mresponse\u001b[0m \u001b[0;34m=\u001b[0m \u001b[0mself\u001b[0m\u001b[0;34m.\u001b[0m\u001b[0mcommand_executor\u001b[0m\u001b[0;34m.\u001b[0m\u001b[0mexecute\u001b[0m\u001b[0;34m(\u001b[0m\u001b[0mdriver_command\u001b[0m\u001b[0;34m,\u001b[0m \u001b[0mparams\u001b[0m\u001b[0;34m)\u001b[0m\u001b[0;34m\u001b[0m\u001b[0;34m\u001b[0m\u001b[0m\n\u001b[1;32m    424\u001b[0m         \u001b[0;32mif\u001b[0m \u001b[0mresponse\u001b[0m\u001b[0;34m:\u001b[0m\u001b[0;34m\u001b[0m\u001b[0;34m\u001b[0m\u001b[0m\n\u001b[0;32m--> 425\u001b[0;31m             \u001b[0mself\u001b[0m\u001b[0;34m.\u001b[0m\u001b[0merror_handler\u001b[0m\u001b[0;34m.\u001b[0m\u001b[0mcheck_response\u001b[0m\u001b[0;34m(\u001b[0m\u001b[0mresponse\u001b[0m\u001b[0;34m)\u001b[0m\u001b[0;34m\u001b[0m\u001b[0;34m\u001b[0m\u001b[0m\n\u001b[0m\u001b[1;32m    426\u001b[0m             response['value'] = self._unwrap_value(\n\u001b[1;32m    427\u001b[0m                 response.get('value', None))\n",
      "\u001b[0;32m/usr/local/conda/lib/python3.7/site-packages/selenium/webdriver/remote/errorhandler.py\u001b[0m in \u001b[0;36mcheck_response\u001b[0;34m(self, response)\u001b[0m\n\u001b[1;32m    245\u001b[0m                 \u001b[0malert_text\u001b[0m \u001b[0;34m=\u001b[0m \u001b[0mvalue\u001b[0m\u001b[0;34m[\u001b[0m\u001b[0;34m'alert'\u001b[0m\u001b[0;34m]\u001b[0m\u001b[0;34m.\u001b[0m\u001b[0mget\u001b[0m\u001b[0;34m(\u001b[0m\u001b[0;34m'text'\u001b[0m\u001b[0;34m)\u001b[0m\u001b[0;34m\u001b[0m\u001b[0;34m\u001b[0m\u001b[0m\n\u001b[1;32m    246\u001b[0m             \u001b[0;32mraise\u001b[0m \u001b[0mexception_class\u001b[0m\u001b[0;34m(\u001b[0m\u001b[0mmessage\u001b[0m\u001b[0;34m,\u001b[0m \u001b[0mscreen\u001b[0m\u001b[0;34m,\u001b[0m \u001b[0mstacktrace\u001b[0m\u001b[0;34m,\u001b[0m \u001b[0malert_text\u001b[0m\u001b[0;34m)\u001b[0m  \u001b[0;31m# type: ignore[call-arg]  # mypy is not smart enough here\u001b[0m\u001b[0;34m\u001b[0m\u001b[0;34m\u001b[0m\u001b[0m\n\u001b[0;32m--> 247\u001b[0;31m         \u001b[0;32mraise\u001b[0m \u001b[0mexception_class\u001b[0m\u001b[0;34m(\u001b[0m\u001b[0mmessage\u001b[0m\u001b[0;34m,\u001b[0m \u001b[0mscreen\u001b[0m\u001b[0;34m,\u001b[0m \u001b[0mstacktrace\u001b[0m\u001b[0;34m)\u001b[0m\u001b[0;34m\u001b[0m\u001b[0;34m\u001b[0m\u001b[0m\n\u001b[0m\u001b[1;32m    248\u001b[0m \u001b[0;34m\u001b[0m\u001b[0m\n\u001b[1;32m    249\u001b[0m     \u001b[0;32mdef\u001b[0m \u001b[0m_value_or_default\u001b[0m\u001b[0;34m(\u001b[0m\u001b[0mself\u001b[0m\u001b[0;34m,\u001b[0m \u001b[0mobj\u001b[0m\u001b[0;34m:\u001b[0m \u001b[0mMapping\u001b[0m\u001b[0;34m[\u001b[0m\u001b[0m_KT\u001b[0m\u001b[0;34m,\u001b[0m \u001b[0m_VT\u001b[0m\u001b[0;34m]\u001b[0m\u001b[0;34m,\u001b[0m \u001b[0mkey\u001b[0m\u001b[0;34m:\u001b[0m \u001b[0m_KT\u001b[0m\u001b[0;34m,\u001b[0m \u001b[0mdefault\u001b[0m\u001b[0;34m:\u001b[0m \u001b[0m_VT\u001b[0m\u001b[0;34m)\u001b[0m \u001b[0;34m->\u001b[0m \u001b[0m_VT\u001b[0m\u001b[0;34m:\u001b[0m\u001b[0;34m\u001b[0m\u001b[0;34m\u001b[0m\u001b[0m\n",
      "\u001b[0;31mWebDriverException\u001b[0m: Message: unknown error: cannot find Chrome binary\nStacktrace:\n#0 0x55aea493d533 <unknown>\n#1 0x55aea469c1e8 <unknown>\n#2 0x55aea46bd469 <unknown>\n#3 0x55aea46bac4a <unknown>\n#4 0x55aea46f5d0a <unknown>\n#5 0x55aea46efe33 <unknown>\n#6 0x55aea46c571a <unknown>\n#7 0x55aea46c6875 <unknown>\n#8 0x55aea4981e1d <unknown>\n#9 0x55aea4985751 <unknown>\n#10 0x55aea496c07e <unknown>\n#11 0x55aea4986388 <unknown>\n#12 0x55aea4960fe0 <unknown>\n#13 0x55aea49a2748 <unknown>\n#14 0x55aea49a28c8 <unknown>\n#15 0x55aea49bc70d <unknown>\n#16 0x7f673db2a609 <unknown>\n"
     ]
    }
   ],
   "source": [
    "from webdriver_manager.chrome import ChromeDriverManager\n",
    "#open googlle scholar\n",
    "#import chromedriver_autoinstaller\n",
    "#chromedriver_autoinstaller.install()\n",
    "chrome_options = Options()\n",
    "chrome_options.add_argument(\"--start-maximized\")\n",
    "#chrome_options.add_argument('--disable-popup-blocking')\n",
    "#prefs = {\"profile.managed_default_content_settings.images\": 2}\n",
    "#chrome_options.add_experimental_option(\"prefs\", prefs)\n",
    "driver = webdriver.Chrome(ChromeDriverManager().install())\n",
    "#driver2 = webdriver.Chrome(r\"C:\\Users\\Rahma\\chromedriver\\chromedriver.exe\",chrome_options=chrome_options)\n",
    "keyword = input(\"keyword :\")\n",
    "\n",
    "def keyword_with_space(keyword):\n",
    "    keyword_with_space = keyword.replace(\" \", \"-\")\n",
    "    return keyword_with_space\n",
    "\n"
   ]
  },
  {
   "cell_type": "code",
   "execution_count": null,
   "id": "21ba1c3d-8d84-4473-ad46-3c19358ce180",
   "metadata": {},
   "outputs": [],
   "source": [
    "page = \"https://medium.com/tag/\"+keyword_with_space(keyword)+\"/top/week\"\n",
    "driver.get(page)\n",
    "current_url = driver.current_url\n",
    "response= requests.get(current_url)\n",
    "#soup object \n",
    "soup = BeautifulSoup(response.content,'html.parser')\n",
    "#result items \n",
    "list_items = soup.find_all('article')\n",
    "# list article\n",
    "#article title\n",
    "article_title = [result.find('h2').get_text() for result in list_items]\n",
    "link = [\"https://medium.com\" + result.findAll('a')[3]['href'] for result in list_items]\n",
    "image = [result.find('img')['src'] for result in list_items]\n",
    "author = [result.find('a',{'class':'au av aw ax ay az ba bb bc bd be bf bg bh bi'}).get_text() for result in list_items]\n",
    "#date\n",
    "date = [result.find('p',{'class':'bn b bo bp co'}).get_text() for result in list_items]\n",
    "description = [result.find('div',{'class' : 'h k aj ak cv'}).get_text() for result in list_items]\n",
    "\n",
    "#read time\n",
    "read_time = [result.find(class_ ='bn b lq bp co').get_text() for result in list_items ]\n",
    "\n"
   ]
  },
  {
   "cell_type": "code",
   "execution_count": null,
   "id": "7a82d6a3-4e93-4160-963a-b3c92a40ca56",
   "metadata": {},
   "outputs": [],
   "source": [
    "def get_text_article():\n",
    "    lista2 =[]\n",
    "    for l in link:\n",
    "        content_current_url =l\n",
    "  \n",
    "        response1= requests.get(content_current_url)\n",
    "        soup1 = BeautifulSoup(response1.content,'html.parser')\n",
    "        lista = soup1.find('section').get_text()\n",
    "        lista2.append(lista)\n",
    "    \n",
    "    return lista2\n",
    "\n"
   ]
  },
  {
   "cell_type": "code",
   "execution_count": null,
   "id": "96049233-f15a-40ec-88f8-25509ea114ef",
   "metadata": {},
   "outputs": [],
   "source": [
    "articles = pd.DataFrame({'Title': article_title ,'Description':description, 'Link': link, 'Image': image,'Author':author,'Date':date,'Read time':read_time,'Text':get_text_article()})"
   ]
  },
  {
   "cell_type": "code",
   "execution_count": null,
   "id": "a374921d-63be-443c-9cbf-8d13f3865b69",
   "metadata": {},
   "outputs": [],
   "source": [
    "def keyword_with_space(keyword):\n",
    "    keyword_with_space = keyword.replace(\" \", \"_\")\n",
    "    return keyword_with_space"
   ]
  },
  {
   "cell_type": "code",
   "execution_count": null,
   "id": "9b401e58",
   "metadata": {},
   "outputs": [],
   "source": [
    "def save_to_hdfs():\n",
    "    file_name= keyword_with_space(keyword)+'medium'+str(DT.date.today())\n",
    "    client = InsecureClient('http://localhost:9870/',user='medium')\n",
    "    with client.write(file_name, encoding = 'utf-8') as writer:\n",
    "        articles.to_csv(writer,index=False)"
   ]
  }
 ],
 "metadata": {
  "kernelspec": {
   "display_name": "Python 3",
   "language": "python",
   "name": "python3"
  },
  "language_info": {
   "codemirror_mode": {
    "name": "ipython",
    "version": 3
   },
   "file_extension": ".py",
   "mimetype": "text/x-python",
   "name": "python",
   "nbconvert_exporter": "python",
   "pygments_lexer": "ipython3",
   "version": "3.7.11"
  }
 },
 "nbformat": 4,
 "nbformat_minor": 5
}
