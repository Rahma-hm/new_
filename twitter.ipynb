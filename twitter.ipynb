{
 "cells": [
  {
   "cell_type": "code",
   "execution_count": null,
   "id": "e4ac4a88",
   "metadata": {},
   "outputs": [],
   "source": [
    "import re\n",
    "import csv\n",
    "from getpass import getpass\n",
    "from time import sleep\n",
    "from selenium import webdriver\n",
    "from selenium.webdriver.common.keys import Keys\n",
    "from selenium.common.exceptions import NoSuchElementException\n",
    "from msedge.selenium_tools import Edge, EdgeOptions "
   ]
  },
  {
   "cell_type": "code",
   "execution_count": 2,
   "id": "1247de3b",
   "metadata": {},
   "outputs": [],
   "source": [
    "\n",
    "def get_tweet_data(card):\n",
    "    \"\"\"Extract data from tweet card\"\"\"\n",
    "    username = card.find_element_by_xpath('.//span').text\n",
    "    try:\n",
    "        handle = card.find_element_by_xpath('.//span[contains(text(), \"@\")]').text\n",
    "    except NoSuchElementException:\n",
    "        return\n",
    "    \n",
    "    try:\n",
    "        postdate = card.find_element_by_xpath('.//time').get_attribute('datetime')\n",
    "    except NoSuchElementException:\n",
    "        return\n",
    "    \n",
    "    comment = card.find_element_by_xpath('.//div[2]/div[2]/div[1]').text\n",
    "    responding = card.find_element_by_xpath('.//div[2]/div[2]/div[2]').text\n",
    "#     text = comment + responding\n",
    "    reply_cnt = card.find_element_by_xpath('.//div[@data-testid=\"reply\"]').text\n",
    "    retweet_cnt = card.find_element_by_xpath('.//div[@data-testid=\"retweet\"]').text\n",
    "    like_cnt = card.find_element_by_xpath('.//div[@data-testid=\"like\"]').text\n",
    "    \n",
    "    # get a string of all emojis contained in the tweet\n",
    "    \"\"\"Emojis are stored as images... so I convert the filename, which is stored as unicode, into \n",
    "    the emoji character.\"\"\"\n",
    "    list_img = card.find_elements_by_class_name('css-9pa8cd')\n",
    "    for img in list_img:\n",
    "        images = img.get_attribute(\"src\")\n",
    "    \n",
    "    tweet = (username, handle, postdate, comment,responding, images, reply_cnt, retweet_cnt, like_cnt)\n",
    "    return tweet "
   ]
  },
  {
   "cell_type": "code",
   "execution_count": 3,
   "id": "5656d83d",
   "metadata": {},
   "outputs": [],
   "source": [
    "driver=webdriver.Chrome(r'C:\\Users\\Rahma\\chromedriver\\chromedriver.exe')\n",
    "sleep(3)\n",
    "#Login\n",
    "driver.get('https://twitter.com/login')\n",
    "sleep(5)\n",
    "username = driver.find_element_by_xpath('//*[@id=\"layers\"]/div/div/div/div/div/div/div[2]/div[2]/div/div/div[2]/div[2]/div[1]/div/div/div[5]/label').send_keys('RahmaHammami8')\n",
    "driver.find_element_by_xpath('//*[@id=\"layers\"]/div/div/div/div/div/div/div[2]/div[2]/div/div/div[2]/div[2]/div[1]/div/div/div[6]').click()\n",
    "sleep(3)\n",
    "password = driver.find_element_by_xpath('//*[@id=\"layers\"]/div/div/div/div/div/div/div[2]/div[2]/div/div/div[2]/div[2]/div[1]/div/div/div[3]/div/label/div/div[2]/div[1]/input').send_keys('rahma 97640222.')\n",
    "sleep(3)\n",
    "driver.find_element_by_xpath('//*[@id=\"layers\"]/div/div/div/div/div/div/div[2]/div[2]/div/div/div[2]/div[2]/div[2]/div/div[1]').click()\n",
    "sleep(4)\n"
   ]
  },
  {
   "cell_type": "code",
   "execution_count": 4,
   "id": "83b1ab9c",
   "metadata": {},
   "outputs": [
    {
     "name": "stdout",
     "output_type": "stream",
     "text": [
      "Enter your value: bigData\n"
     ]
    }
   ],
   "source": [
    "keyword = input(\"Enter your value: \")\n",
    "page = 'https://twitter.com/search?q=%23'+keyword+'&src=typed_query&f=top'\n",
    "driver.get(page)"
   ]
  },
  {
   "cell_type": "code",
   "execution_count": 5,
   "id": "7d1d734a",
   "metadata": {
    "scrolled": true
   },
   "outputs": [],
   "source": [
    "# get all tweets on the page\n",
    "data = []\n",
    "tweet_ids = set()\n",
    "last_position = driver.execute_script(\"return window.pageYOffset;\")\n",
    "scrolling = True\n",
    "\n",
    "while scrolling:\n",
    "    page_cards = driver.find_elements_by_xpath('//article[@data-testid=\"tweet\"]')\n",
    "    for card in page_cards[-15:]:\n",
    "        tweet = get_tweet_data(card)\n",
    "        if tweet:\n",
    "            tweet_id = ''.join(tweet)\n",
    "            if tweet_id not in tweet_ids:\n",
    "                tweet_ids.add(tweet_id)\n",
    "                data.append(tweet)\n",
    "            \n",
    "    scroll_attempt = 0\n",
    "    while True:\n",
    "        # check scroll position\n",
    "        driver.execute_script('window.scrollTo(0, document.body.scrollHeight);')\n",
    "        sleep(2)\n",
    "        curr_position = driver.execute_script(\"return window.pageYOffset;\")\n",
    "        if last_position == curr_position:\n",
    "            scroll_attempt += 1\n",
    "            \n",
    "            # end of scroll region\n",
    "            if scroll_attempt >= 3:\n",
    "                scrolling = False\n",
    "                break\n",
    "            else:\n",
    "                sleep(2) # attempt another scroll\n",
    "        else:\n",
    "            last_position = curr_position\n",
    "            break\n",
    "\n",
    "# close the web driver\n",
    "driver.close()"
   ]
  },
  {
   "cell_type": "markdown",
   "id": "522140c4",
   "metadata": {},
   "source": [
    "### here we save results as csv\n"
   ]
  },
  {
   "cell_type": "code",
   "execution_count": null,
   "id": "b71564ff",
   "metadata": {},
   "outputs": [],
   "source": [
    "def save_to_hdfs():\n",
    "    file_name= keyword+'twitter'+str(DT.date.today())\n",
    "    client = InsecureClient('http://localhost:9870/',user='twitter')\n",
    "    with client.write(file_name, encoding = 'utf-8') as writer:\n",
    "        data.to_csv(writer,index=False)"
   ]
  },
  {
   "cell_type": "code",
   "execution_count": null,
   "id": "f58a7b75-0d8d-4dfa-a213-52bcb2d5b69d",
   "metadata": {},
   "outputs": [],
   "source": []
  }
 ],
 "metadata": {
  "kernelspec": {
   "display_name": "Python 3",
   "language": "python",
   "name": "python3"
  },
  "language_info": {
   "codemirror_mode": {
    "name": "ipython",
    "version": 3
   },
   "file_extension": ".py",
   "mimetype": "text/x-python",
   "name": "python",
   "nbconvert_exporter": "python",
   "pygments_lexer": "ipython3",
   "version": "3.9.7"
  }
 },
 "nbformat": 4,
 "nbformat_minor": 5
}
