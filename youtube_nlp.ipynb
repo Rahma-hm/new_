{
 "cells": [
  {
   "cell_type": "code",
   "execution_count": 3,
   "id": "2341d957-5f30-4d2c-b769-ed65333d0f97",
   "metadata": {},
   "outputs": [],
   "source": [
    "from transformers import pipeline\n",
    "from youtube_transcript_api import YouTubeTranscriptApi\n",
    "from pyspark.context import SparkContext\n",
    "from pyspark.sql.session import SparkSession"
   ]
  },
  {
   "cell_type": "code",
   "execution_count": 4,
   "id": "bc101d6c-d815-4891-bb0a-bca141a7f371",
   "metadata": {},
   "outputs": [],
   "source": [
    "spark = SparkSession.builder.master(\"local\").appName(\"test\").config(\"spark.driver.memory\", \"9g\").getOrCreate()\n",
    "sc = spark.sparkContext"
   ]
  },
  {
   "cell_type": "code",
   "execution_count": 5,
   "id": "e1a08e31-be82-4226-b068-431c543a70e5",
   "metadata": {},
   "outputs": [],
   "source": [
    "youtube = spark.read.option(\"multiline\",'true').json('/user/youtube/blockchainyoutube2022-05-04.json')"
   ]
  },
  {
   "cell_type": "code",
   "execution_count": 6,
   "id": "caa292be-8fe4-459d-beb9-8c07c2183633",
   "metadata": {},
   "outputs": [],
   "source": [
    "#youtube.take(10)"
   ]
  },
  {
   "cell_type": "code",
   "execution_count": 7,
   "id": "cc4d19d6-c532-42da-958b-084910c27f34",
   "metadata": {},
   "outputs": [
    {
     "name": "stdout",
     "output_type": "stream",
     "text": [
      "root\n",
      " |-- etag: string (nullable = true)\n",
      " |-- items: array (nullable = true)\n",
      " |    |-- element: struct (containsNull = true)\n",
      " |    |    |-- etag: string (nullable = true)\n",
      " |    |    |-- id: struct (nullable = true)\n",
      " |    |    |    |-- kind: string (nullable = true)\n",
      " |    |    |    |-- videoId: string (nullable = true)\n",
      " |    |    |-- kind: string (nullable = true)\n",
      " |    |    |-- snippet: struct (nullable = true)\n",
      " |    |    |    |-- channelId: string (nullable = true)\n",
      " |    |    |    |-- channelTitle: string (nullable = true)\n",
      " |    |    |    |-- description: string (nullable = true)\n",
      " |    |    |    |-- liveBroadcastContent: string (nullable = true)\n",
      " |    |    |    |-- publishTime: string (nullable = true)\n",
      " |    |    |    |-- publishedAt: string (nullable = true)\n",
      " |    |    |    |-- thumbnails: struct (nullable = true)\n",
      " |    |    |    |    |-- default: struct (nullable = true)\n",
      " |    |    |    |    |    |-- height: long (nullable = true)\n",
      " |    |    |    |    |    |-- url: string (nullable = true)\n",
      " |    |    |    |    |    |-- width: long (nullable = true)\n",
      " |    |    |    |    |-- high: struct (nullable = true)\n",
      " |    |    |    |    |    |-- height: long (nullable = true)\n",
      " |    |    |    |    |    |-- url: string (nullable = true)\n",
      " |    |    |    |    |    |-- width: long (nullable = true)\n",
      " |    |    |    |    |-- medium: struct (nullable = true)\n",
      " |    |    |    |    |    |-- height: long (nullable = true)\n",
      " |    |    |    |    |    |-- url: string (nullable = true)\n",
      " |    |    |    |    |    |-- width: long (nullable = true)\n",
      " |    |    |    |-- title: string (nullable = true)\n",
      " |-- kind: string (nullable = true)\n",
      " |-- nextPageToken: string (nullable = true)\n",
      " |-- pageInfo: struct (nullable = true)\n",
      " |    |-- resultsPerPage: long (nullable = true)\n",
      " |    |-- totalResults: long (nullable = true)\n",
      " |-- regionCode: string (nullable = true)\n",
      "\n"
     ]
    }
   ],
   "source": [
    "youtube.printSchema()"
   ]
  },
  {
   "cell_type": "code",
   "execution_count": 8,
   "id": "10acf536-d3c8-4291-a1d0-3c3ced79d886",
   "metadata": {},
   "outputs": [],
   "source": [
    "from pyspark.sql import types as T\n",
    "import pyspark.sql.functions as F\n",
    "\n",
    "\n",
    "def flatten(df):\n",
    "    complex_fields = dict([\n",
    "        (field.name, field.dataType) \n",
    "        for field in df.schema.fields \n",
    "        if isinstance(field.dataType, T.ArrayType) or isinstance(field.dataType, T.StructType)\n",
    "    ])\n",
    "    \n",
    "    qualify = list(complex_fields.keys())[0] + \"_\"\n",
    "\n",
    "    while len(complex_fields) != 0:\n",
    "        col_name = list(complex_fields.keys())[0]\n",
    "        \n",
    "        if isinstance(complex_fields[col_name], T.StructType):\n",
    "            expanded = [F.col(col_name + '.' + k).alias(col_name + '_' + k) \n",
    "                        for k in [ n.name for n in  complex_fields[col_name]]\n",
    "                       ]\n",
    "            \n",
    "            df = df.select(\"*\", *expanded).drop(col_name)\n",
    "    \n",
    "        elif isinstance(complex_fields[col_name], T.ArrayType): \n",
    "            df = df.withColumn(col_name, F.explode(col_name))\n",
    "    \n",
    "      \n",
    "        complex_fields = dict([\n",
    "            (field.name, field.dataType)\n",
    "            for field in df.schema.fields\n",
    "            if isinstance(field.dataType, T.ArrayType) or isinstance(field.dataType, T.StructType)\n",
    "        ])\n",
    "        \n",
    "        \n",
    "    for df_col_name in df.columns:\n",
    "        df = df.withColumnRenamed(df_col_name, df_col_name.replace(qualify, \"\"))\n",
    "\n",
    "    return df"
   ]
  },
  {
   "cell_type": "code",
   "execution_count": 9,
   "id": "705231d0-eec2-4cf4-a5a9-706cd7ae81de",
   "metadata": {},
   "outputs": [],
   "source": [
    "df =flatten(youtube)"
   ]
  },
  {
   "cell_type": "code",
   "execution_count": 10,
   "id": "7cf29c5c-958b-4b33-bceb-bc282cc00a67",
   "metadata": {},
   "outputs": [
    {
     "name": "stdout",
     "output_type": "stream",
     "text": [
      "root\n",
      " |-- etag: string (nullable = true)\n",
      " |-- kind: string (nullable = true)\n",
      " |-- nextPageToken: string (nullable = true)\n",
      " |-- regionCode: string (nullable = true)\n",
      " |-- etag: string (nullable = true)\n",
      " |-- kind: string (nullable = true)\n",
      " |-- pageInfo_resultsPerPage: long (nullable = true)\n",
      " |-- pageInfo_totalResults: long (nullable = true)\n",
      " |-- id_kind: string (nullable = true)\n",
      " |-- id_videoId: string (nullable = true)\n",
      " |-- snippet_channelId: string (nullable = true)\n",
      " |-- snippet_channelTitle: string (nullable = true)\n",
      " |-- snippet_description: string (nullable = true)\n",
      " |-- snippet_liveBroadcastContent: string (nullable = true)\n",
      " |-- snippet_publishTime: string (nullable = true)\n",
      " |-- snippet_publishedAt: string (nullable = true)\n",
      " |-- snippet_title: string (nullable = true)\n",
      " |-- snippet_thumbnails_default_height: long (nullable = true)\n",
      " |-- snippet_thumbnails_default_url: string (nullable = true)\n",
      " |-- snippet_thumbnails_default_width: long (nullable = true)\n",
      " |-- snippet_thumbnails_high_height: long (nullable = true)\n",
      " |-- snippet_thumbnails_high_url: string (nullable = true)\n",
      " |-- snippet_thumbnails_high_width: long (nullable = true)\n",
      " |-- snippet_thumbnails_medium_height: long (nullable = true)\n",
      " |-- snippet_thumbnails_medium_url: string (nullable = true)\n",
      " |-- snippet_thumbnails_medium_width: long (nullable = true)\n",
      "\n"
     ]
    }
   ],
   "source": [
    "df.printSchema()"
   ]
  },
  {
   "cell_type": "code",
   "execution_count": 11,
   "id": "7dad4ea4-7aaa-446c-b6cf-4ea4380be3d4",
   "metadata": {},
   "outputs": [],
   "source": [
    "df.createOrReplaceTempView(\"list_of_videos\")"
   ]
  },
  {
   "cell_type": "code",
   "execution_count": 12,
   "id": "3f18aca5-e016-4921-8b2e-d43c827b4288",
   "metadata": {},
   "outputs": [],
   "source": [
    "id_videos= spark.sql('SELECT id_videoId FROM list_of_videos')"
   ]
  },
  {
   "cell_type": "code",
   "execution_count": 27,
   "id": "57a547a8-863b-489e-9e0d-68b74ec0e8d3",
   "metadata": {},
   "outputs": [
    {
     "data": {
      "text/plain": [
       "[Row(id_videoId='GNyCj4XKP00')]"
      ]
     },
     "execution_count": 27,
     "metadata": {},
     "output_type": "execute_result"
    }
   ],
   "source": [
    "id_videos.take(1)\n"
   ]
  },
  {
   "cell_type": "code",
   "execution_count": 22,
   "id": "85dba4cc-9dcd-4d8c-8e03-92db3ab20957",
   "metadata": {},
   "outputs": [
    {
     "name": "stdout",
     "output_type": "stream",
     "text": [
      "+--------------------+\n",
      "|       snippet_title|\n",
      "+--------------------+\n",
      "|Cardano, Ethereum...|\n",
      "|TU DOIS CONNAITRE...|\n",
      "|What is blockchai...|\n",
      "|NFTs And The Bloc...|\n",
      "|Bitcoin&#39;s uti...|\n",
      "|Bored Ape Metaver...|\n",
      "|BITCOIN Breakout ...|\n",
      "|Blackrock Launche...|\n",
      "|Conceptos clave p...|\n",
      "|🔴Here’s How Bots...|\n",
      "|Middle East is fu...|\n",
      "|This Crypto could...|\n",
      "|Algorand Explodes...|\n",
      "|RIPPLE and XRP PR...|\n",
      "|CRYPTO : LES BLOC...|\n",
      "|GOUVERNANCE : La ...|\n",
      "|Blockchain Develo...|\n",
      "|Dr. Max Li, CEO o...|\n",
      "|LES OPPORTUNITÉS ...|\n",
      "|Brendan Playford,...|\n",
      "+--------------------+\n",
      "only showing top 20 rows\n",
      "\n"
     ]
    }
   ],
   "source": [
    "spark.sql('SELECT snippet_title FROM list_of_videos').show()"
   ]
  },
  {
   "cell_type": "code",
   "execution_count": 15,
   "id": "b0a7ed99-08fe-42b0-8d5a-1eed2c2c407b",
   "metadata": {},
   "outputs": [],
   "source": [
    "links = ['https://www.youtube.com/watch?v='+ id_video for id_video in id_videos]"
   ]
  },
  {
   "cell_type": "code",
   "execution_count": 26,
   "id": "b589d987-142c-4977-aa69-53c7267ebb46",
   "metadata": {},
   "outputs": [
    {
     "ename": "TypeError",
     "evalue": "'Column' object is not callable",
     "output_type": "error",
     "traceback": [
      "\u001b[0;31m---------------------------------------------------------------------------\u001b[0m",
      "\u001b[0;31mTypeError\u001b[0m                                 Traceback (most recent call last)",
      "\u001b[0;32m<ipython-input-26-349fd23b1709>\u001b[0m in \u001b[0;36m<module>\u001b[0;34m\u001b[0m\n\u001b[1;32m      1\u001b[0m \u001b[0;32mfor\u001b[0m \u001b[0ml\u001b[0m \u001b[0;32min\u001b[0m \u001b[0mid_videos\u001b[0m\u001b[0;34m:\u001b[0m\u001b[0;34m\u001b[0m\u001b[0;34m\u001b[0m\u001b[0m\n\u001b[0;32m----> 2\u001b[0;31m     \u001b[0ml\u001b[0m\u001b[0;34m.\u001b[0m\u001b[0mhead\u001b[0m\u001b[0;34m(\u001b[0m\u001b[0;34m)\u001b[0m\u001b[0;34m\u001b[0m\u001b[0;34m\u001b[0m\u001b[0m\n\u001b[0m",
      "\u001b[0;31mTypeError\u001b[0m: 'Column' object is not callable"
     ]
    }
   ],
   "source": []
  },
  {
   "cell_type": "code",
   "execution_count": null,
   "id": "3f0209a1-ca8c-4374-918e-bf7d3a28edae",
   "metadata": {},
   "outputs": [],
   "source": [
    "print(links)"
   ]
  },
  {
   "cell_type": "code",
   "execution_count": 28,
   "id": "383ac8cb-c5ae-4032-89dd-4deefd4617f4",
   "metadata": {},
   "outputs": [],
   "source": [
    "video_id ='U62Yn43nOeg'"
   ]
  },
  {
   "cell_type": "code",
   "execution_count": 29,
   "id": "4bb23afc-6a05-434c-a6bd-0fc551eaedfa",
   "metadata": {},
   "outputs": [
    {
     "data": {
      "text/plain": [
       "'U62Yn43nOeg'"
      ]
     },
     "execution_count": 29,
     "metadata": {},
     "output_type": "execute_result"
    }
   ],
   "source": [
    "video_id"
   ]
  },
  {
   "cell_type": "code",
   "execution_count": 30,
   "id": "36b60b63-5c94-46ac-80e0-64bd52a207c3",
   "metadata": {},
   "outputs": [
    {
     "data": {
      "image/jpeg": "[encoded data removed]",
      "text/html": [
       "\n",
       "        <iframe\n",
       "            width=\"400\"\n",
       "            height=\"300\"\n",
       "            src=\"https://www.youtube.com/embed/U62Yn43nOeg\"\n",
       "            frameborder=\"0\"\n",
       "            allowfullscreen\n",
       "        ></iframe>\n",
       "        "
      ],
      "text/plain": [
       "<IPython.lib.display.YouTubeVideo at 0x7f8a1d2aa3d0>"
      ]
     },
     "execution_count": 30,
     "metadata": {},
     "output_type": "execute_result"
    }
   ],
   "source": [
    "from IPython.display import YouTubeVideo\n",
    "YouTubeVideo(video_id)"
   ]
  },
  {
   "cell_type": "code",
   "execution_count": 31,
   "id": "688a00aa-9ca6-48dc-bc0e-5f84e9784f66",
   "metadata": {},
   "outputs": [],
   "source": [
    "YouTubeTranscriptApi.get_transcript(video_id)\n",
    "transcript = YouTubeTranscriptApi.get_transcript(video_id)"
   ]
  },
  {
   "cell_type": "code",
   "execution_count": 32,
   "id": "401fdbfd-e470-4121-af65-bd9f50c04171",
   "metadata": {},
   "outputs": [
    {
     "name": "stdout",
     "output_type": "stream",
     "text": [
      "24838\n"
     ]
    }
   ],
   "source": [
    "result = \"\"\n",
    "for i in transcript:\n",
    "    result += ' ' + i['text']\n",
    "#print(result)\n",
    "print(len(result))"
   ]
  },
  {
   "cell_type": "code",
   "execution_count": 33,
   "id": "6fe6398e-591d-4bb5-807b-3f8bd1f01088",
   "metadata": {},
   "outputs": [
    {
     "data": {
      "text/plain": [
       "\" it is time for another nft market update where we're going to be covering everything that has been going on in the world of nfts in the past seven days we'll first be covering some of the most important news stories that have broken in the nft space we'll then be covering some data and analytics backing the nft market right now we'll cover some upcoming projects we can expect for this week as well as identify some trends and nft collections i am seeing currently as always i really do enjoy making these videos and i have seen that you really enjoy them too so you are definitely not going to want to miss out on this one because we have some insane stuff to talk about we had the largest nft mint ever take place in the past seven days with the other side land nfts officially minting and selling out by yugo labs so we're gonna be covering that here in today's video but before we get started make sure to hit that subscribe and like button if you end up enjoying or finding value in today's video it is greatly greatly appreciated and with that being said welcome to the nifty verse and really quick if you want to support me in the content i am creating on this channel make sure to go check out my patreon which is linked down in description below you can gain exclusive access to weekly q a sessions with myself nft project reviews and see what nfts i am buying in real time and much more so you're definitely not going to want to miss out and as always i do want to give a disclaimer and mention that this is not financial advice i am not a financial advisor so make sure you are always doing your own research and making your own decisions and with that out of the way let's hop in and get started so like always we are first going to be covering the most important news surrounding the nft space here today we'll go through these really quickly and then get to the top nft sales of the week and of course the first story we are going to be talking about here today is yuga labs and their land nft sale for the other side some new surrounding it we have you go labs has officially recorded over 300 million dollars raising over 300 million dollars in fact through their land nft sale that took place on april 30th this is by far the largest nft mint ever and when we take a look at the data and analytics around the nft market backing the nft market we're gonna see that this had some tremendous effect in the nft space more news coming in from the other side yuga labs recorded over 561 million dollars in other side land nft sales so secondary land sales are included in this too in less than 24 hours this is absolutely astonishing and really goes to show how many people were truly excited for this nft's release moving on we have some broader statistics coming in from a report that showcases that quarter one of 2022 was the best quarter for nfts secondary nft sales and total volume reached over 10 billion dollars in quarter one of 2022 which like i said makes it an all-time high for total volume the nft space is growing and it's showing no signs of stopping anytime soon moving on we have some news from coinbase's nft marketplace in week one of their beta they have recorded less than 900 transactions now this is not a large amount and a lot of people in the nft space have certainly been underwhelmed from the release of this nft marketplace from coinbase moving on there was an announcement from a report inside of goldman sachs that they said they are exploring nfts and are looking to tokenize real world assets goldman sachs is an extremely large financial institution and they have made it clear that they are extremely bullish on the technology behind nfts up next we have open seas nft marketplace announcing that they will be accepting apecoin as a form of payment for nft transactions this is coming after the other side land nft sale that recently took place where you had to purchase a land nft from the other side using apecoin moving on to some more openc related news openc has officially recorded over 3.4 billion dollars in nft sales for the month of april this makes it one of the best months on record and we will get into that once we are taking a look at some data and analytics behind the market also tied into that on may 1st we had a record day for volume on openc with 476 million dollars in total volume traded on the platform moving on we have adidas's into the metaverse nft officially opening up their first physical merch claim for phase two we also have some news surrounding some other nft collection a popular nft collection lazy lions has announced that they are set to release their lazy cubs nft collection which is their secondary nft project sometime soon moving on we have moonpay which is a popular platform to transact nfts using different things other than just ethereum like a credit card and other cryptocurrencies they have partnered up with the one of nft platform for global payments moonpay is certainly making moves within the nft space and not only have they partnered with one of they have partnered up with openc as well which we talked about a few weeks ago moving on we have some news surrounding the sandbox metaverse they had a land sale that went live a few days ago for mega city 2 that is what they called it and it has officially sold out and then finally for our last piece of news for today we did not have too much news like our other weekly update videos a lot of the news today is surrounding board api club and hugo labs is other side metaverse but this is what we have for you here today board api club has officially reached an all-time high at 154 ethereum floor price during this whole process of the other side release now this floor price has declined from its all-time high pretty substantially but it is important to note that it did reach an all-time high of 154 ethereum which i believe is close to around 500 000 and now that we've covered some of the most important news within the space let's hop in and take a look at the top nft sales for the week we first have at number six board apes year old number 9921 selling for 739 thousand dollars at number five we have other side land serial numbered one eight nine zero selling for seven hundred and ninety six thousand dollars at number four we have moon bird serial numbered five zero seven nine going for eight hundred and forty one thousand dollars now getting into our top three spots we have other side land serial number nine selling for eight hundred and fifty two thousand dollars we then have at number two other side land serial number 24 selling for 952 000 and at number one of course we have a board ape serial number two nine eight zero selling for one million and sixty nine thousand dollars so these are gonna be your top nft sales for the week in the past seven days and of course the big story here is going to be other side land which has been selling for substantial amounts now that we've gotten through all of that i wanted to give some of my thoughts and further dive deep into two new stories we briefly highlighted on first of course we can't really ignore the other side and board api club and what they recently did on april 30th with their land sale it is by far the largest nft mint we have ever seen within the space it was huge there was a ton of people that were really looking forward to the release of the other side and its land parcels inside of that metaverse and a lot of people did end up getting screwed over by the gas war that did end up taking place during that release a lot of people were extremely upset with how hugo labs did end up executing this release but regardless it is still performing decently well on the secondary market it is going to be definitely really interesting to see how this continues to perform on the secondary market there certainly is a lot of fun right now a lot of speculation a lot of just overall negativity surrounding the overall performance of the collection thus far but regardless it is performing still pretty solidly on the secondary market holding roughly around a four ethereum floor price now i'm gonna be making more videos about board api club and the other side metaverse here very soon so make sure you are staying up to date on my channel and looking out for those videos the next story i briefly wanted to talk about and provide my opinions on was that coinbase story where we saw for their nft marketplace less than 900 transactions on their nft marketplace and like i was stating a lot of people have been underwhelmed with the overall release of that nft marketplace there was so many expectations really really high expectations for the nft marketplace and i really think with the announcement and overall execution at least thus far it has fallen flat with the nft community it's only in beta so i'm not going to be heavily critical on it but at the same time people are continuing to use c looks rare even as the top two nft marketplaces currently and i'd be interesting to see if we see a complete shift from openc or looks rare to coinbase's nft marketplace they're really gonna have to start executing a better marketing plan for it and just have a better overall offering for what they are offering on that nft marketplace compared to what openc and looks rare has and i think this just teaches this somewhat of a valuable lesson of having just our expectations at a medium level never have super high expectations of what something is going to be because i believe it clouds up your judgment here a little bit a lot of people speculated that the release of this nft marketplace would be the catalyst for another nft bull run that would enter the space because of the amount of people that were signed up and on the waiting list to be able to access this marketplace but in fact i think the catalyst as of recently was the moon bird nft sale as well as the other side land deeds that just recently went live it's interesting how the nft market plays itself out and what ends up succeeding what ends up underperforming and so on and so forth i'm continuing to look at the nft marketplace from coinbase here really really closely and see how it will perform here in the coming months i will be interested in seeing how that does end up performing but i want to hear some of your thoughts what do you think about the coinbase nft marketplace and what they have done so far let me know down in the comments below and those were just some of my thoughts on a few of the news stories we did cover and highlight here today let's now hop into the data and analytics behind the nft market and see what's up so we are on doing analytics right now and let me tell you there is a big fat candlestick that is just sticking out to me right now it is unavoidable we are in the openc daily volume chart taking a look we had a record day at 476 million dollars on may first now i forgot what was the record day for the nft space as to previously and i know there is a setting on doing analytics where i can find that but i just don't remember that setting if anyone can tell me what that setting is i'd really appreciate it but i know this is definitely a super high number and you can see compared to all of the other volume days within the nft space as of recently this is certainly an outlier and currently at the time of recording we're having a phenomenal day once again at million dollars for the day on may 2nd right so just a lot of good stuff coming in in the nft space in terms of overall volume and the amount of capital that is coming now in the long term i'm not sure if we are going to be able to sustain these levels of volume we are currently seeing right now of course this is being highly influenced by the other side land sale that just took place and that is why we are seeing this massive massive candlestick right here and the start of another massive candlestick was here on april 16th where we saw the moon bird nft sail and that is where i was getting to where we saw moon birds and the other side potentially bringing a lot of volume back into the nft space now like i said i am not too sure on whether or not this is going to continue here at least for the long term in the short term it is certainly a possibility but this is a very high number to continuously hit day by day without a massive event a massive nft sale that is taking place the nft market and we're going to see in just a little bit some of these top projects are performing really really well but other nft collections are not performing as well as you would expect it to be so it is going to be interesting once we dissect that information now taking a look at the openc monthly volume we see some promising signs certainly right on april we had a close of around 3.5 billion dollars i want to say i guessed around that number close to the second highest month we have ever had which was back in february i believe this now makes it the third highest and best month for nfts which is always a good sign reversing that trend that we saw a downfall here in the month of march and we are starting off strong certainly in the month of may already reaching close to 1 billion dollars for the month now moving on and taking a look at the google trends data behind the search term nft similarly with what we have been seeing in the past couple of weeks not much action here it seems that we're actually still continuing to go on the decline in terms of overall search volume for the term nft reaching a low of around 22 in terms of search interest now man i really don't think we're gonna hit much lower than this it is really interesting to see this overall dynamic play out where we see a ton of volume within the nft space a lot of money coming in but really low interest right and that to me is a promising sign because people certainly believe in the nft space a lot of money is flowing within it all it really takes is now for the general public the broader market outside of nfts to come back and really ignite something big so let's now move on and talk about some individual nft collections and see how they are performing currently we are on flips dot finance taking a look at the rankings and see how each collection is performing in the past seven days specifically the top tier nft collections sorted by floor price so as we can see i want to say it is definitely a mixture of green and red but i believe we are seeing a little more red than we are seeing grain now keep in mind the other side land nfts are still not listed on this website just yet but for the most part we can see that board api club is down 18 at 115 ethereum floor so we can see after the land sale that just took place a lot of people did decide to dump their nfts on the market we then have proof collective down eight percent we have muni pia club down 37 that is a big hit for that nft collection which i think was reaching an all-time high of around 40 ethereum we have nft trees down 4.94 percent we have boarded kennel club down 32 v friends down 18 nft worlds down 19 world of women down close to 20 we have cool cats down almost 20 as well so we can see some of these higher tier nft collections are certainly taking some pretty substantial hits but on the other side of that we have certainly seen some other nft collections perform pretty well in the meantime now i'm going to have this cyber cons nft collection kind of crossed out right here because they separated their genesis kongs from their baby kong so it is now two separate pages on openc so that is why you are seeing a really big substantial increase in overall price right here so ignore that for now we have moon birds that is up 11 percent we have azuki up 26 doodles on fire right now up 57 clonex up 11 murakami doing really well too up 26 we have something which is i believe the beans collection from azuki up 33 percent so we certainly have some nft collections that are performing well against the others now from what i'm seeing i believe a lot of that volume and we can see it clearly is coming in from board api club and from that land nft sale but now since those things are over right a lot of people are now dumping some of their apes to get some liquidity back a lot of that hype has ended at least for now some of these other top nft collections are getting some good treatment after some people have flipped these assets on the secondary market and the big ones like i said are going to be azuki and doodles right now really really performing well so that is going to be the overview on the data and analytics behind the nft market right now let's now move on and talk about some of the upcoming nft projects that we'll be releasing this week so we are now currently inside of our discord server right now taking a look at the nft release calendar and there's going to be a total of six nft drops that we can expect this week that have a pretty good amount of hype and attention surrounding them we first have lo-fi originals which has rescheduled their date for release to may 3rd we then have shimon's and i am sorry if i'm mispronouncing that they will also be releasing on may 3rd we have kahiru which is a very highly anticipated release releasing on may 4th we have nft worlds genesis avatars going live on may 5th we then have on may 6th we have sky verse which will be making its release on this day and then finally on may 6th as well we have mind blowing the most highly anticipated release this week is most likely going to be mind blowing and kahiro those are going to be your six nft collections which will be making its release this week that have a certain amount of hype a good amount of hype and attention surrounding them right now and if you want to do more research on each individual nft collection right here you can join our discord server for absolutely free and gain access to this nft release calendar and get some details behind each nft collection such as the release details official links we have the founders and the team the roadmap and the utility and the whitelist details if they all provide it and now let's move on to talk about some specific nft projects some some trends that i am seeing within the nft space so we're on openc right now taking a look at the top nfts within the last seven days and ranking them so of course at the top of the charts we have nft collections that are associated with board api club no surprise there other side other ds are at number one with 179 000 ethereum traded in terms of the last seven days which is absolute insanity we have a surprise nft collection right here solana nft collection that has been performing really well and i know a lot of people have been asking me about it we have okay bearers coming in from the solana world performing better than a lot of the other top nft collections ethereum nft projects within the space so lana has certainly been heating up as of recently right a lot of people have been looking at solana nfts you see more videos on youtube starting to gain traction as well that are surrounding solana nfts which i find incredibly interesting and nice to see that another blockchain is showing more promise and is heating up i want to say the main reason at least in my opinion on why we are seeing some solana nft collections perform really well as of recently is because they are now available on opencu which is by far and away the number one nft marketplace to exist this is where all the eyes are if you know about nfts you know about openc you know that this is where people buy their nfts and where you have the eyes you have the attention and the most opportunity to have people purchase into your product or your service and in this case for nft collections that are listed on here they have the most amount of eyes and attention surrounding them which give them the best opportunity to either sell out or transact and in this case for the nfts that are located on openc they have the best opportunity to get picked up by individuals who are entering the nft space researching it or looking to buy new nfts so this is a trend i think we are going to continue to see here in the very near future right i don't think it will be obviously as big as ethereum nfts ethereum nfts are just extremely dominant and you have so much of talent on ethereum and the top nft collections on ethereum but i could see some individuals some good nft collections possibly coming out of solana and now since that they have the eyes and attention of open sea we might see some more traction surrounding them now other than that really in terms of trends i am seeing within the nft space there hasn't been much here in this last week all of the news of everyone's time and possibly money as well has been consumed by this other side land sale so a lot of the attention other nft collections could have possibly gotten in the last week was really just overshadowed by this nft project here other nft collections like i said that have been performing well as of recently though are moon birds of course we have doodles which has performed phenomenally in the past seven days and more specifically after the other side lands sale and i think it's because they have still yet to really release a secondary nft collection right so what can they potentially airdrop to holders which can provide value back to the holders and i think a lot of these high-end traders are currently speculating on that and at the same time they know they are buying into a project with an experienced team and are looking to develop for the long term so maybe that is what we want to provide our attention to i made a video not too long ago talking about nft ecosystems and the best nfts to buy essentially which you can check out right here which kind of talks about this concept so maybe this is the move purchasing into nft collections and looking into nft collections that have still yet to overall deliver on the road map and the amount of value that they are looking to provide back to their holders so like i said doodles is definitely an example me bits has been performing well and this is specifically because hugo labs and i think of an owner of yugo labs one of the either gargamel or someone else said that they are going to be providing utility for me bits and are planning that out right now and posted a tweet about it so you had some increase in overall price action happen for the me bits collection so people are moving around they're shifting around to see which nft collection is going to get that value and that utility and they are purchasing into that nft project relatively early to try to get in to that price action and i probably mixed up my words there just a little bit but what i mean by this is that there is going to be a lot of different types of utility and value that still have yet to be provided back to the holders of a certain nft project and it could be an interesting opportunity to get into those projects relatively early before that all happens and that is probably why we're seeing a lot of speculation and price action for these projects that have still yet to perform that so those are the things that i'm really seeing within the nft space right now like i said i'm going to be making some videos on the other side and the land deeds that are associated with it so make sure you are checking out the channel for those videos that are coming here very soon and that is going to be our nft market update for today we took a look at all of the most important news that took place here in the past seven days in the world of nfts we also took a look at the data and analytics behind the nft market right now to see how it is operating we took a look and highlighted some of the upcoming nft projects that we'll be releasing here this week we also took a look at some of my opinions and what i am seeing in terms of nft trends within the space and a few other things as well and now you are fully in the know with what is going on in the nft space here in the past seven days and i would now love to hear some of your thoughts and what you thought about today's video what do you think about the nft market currently are you purchasing another sideland nft or any other nft collection currently at this time let me know down in the comments below and if you want to stay up to date with what i am doing in the nft space and see what nfts i am possibly buying make sure to go check out my twitter at nft versus underscore it is linked down in the description below that basically wraps it up for today's video and as always i would like to say thank you and appreciate every single one of you for watching make sure to hit that subscribe and like button it is greatly appreciated as well and i will catch you all later you\""
      ]
     },
     "execution_count": 33,
     "metadata": {},
     "output_type": "execute_result"
    }
   ],
   "source": [
    "result"
   ]
  },
  {
   "cell_type": "code",
   "execution_count": null,
   "id": "f883c6a6-df4c-4cf4-b24d-fa0ea3db28b1",
   "metadata": {},
   "outputs": [
    {
     "name": "stderr",
     "output_type": "stream",
     "text": [
      "No model was supplied, defaulted to sshleifer/distilbart-cnn-12-6 (https://huggingface.co/sshleifer/distilbart-cnn-12-6)\n"
     ]
    }
   ],
   "source": [
    "summarizer = pipeline('summarization')"
   ]
  },
  {
   "cell_type": "code",
   "execution_count": null,
   "id": "d8a757fa-e0ac-4294-afa3-06966d94cc3e",
   "metadata": {},
   "outputs": [],
   "source": [
    "num_iters = int(len(result)/1000)\n",
    "summarized_text = []\n",
    "for i in range(0, num_iters + 1):\n",
    "  start = 0\n",
    "  start = i * 1000\n",
    "  end = (i + 1) * 1000\n",
    "  print(\"input text \\n\" + result[start:end])\n",
    "  out = summarizer(result[start:end])\n",
    "  out = out[0]\n",
    "  out = out['summary_text']\n",
    "  print(\"Summarized text\\n\"+out)\n",
    "  summarized_text.append(out)"
   ]
  },
  {
   "cell_type": "code",
   "execution_count": null,
   "id": "63b76b2f-3168-4170-ac2d-d1c31b1a8169",
   "metadata": {},
   "outputs": [],
   "source": [
    "str(summarized_text)"
   ]
  },
  {
   "cell_type": "code",
   "execution_count": null,
   "id": "72939006-4221-4a77-a4c5-b75710dd7acd",
   "metadata": {},
   "outputs": [],
   "source": []
  },
  {
   "cell_type": "code",
   "execution_count": null,
   "id": "ccf2e982-064a-4d14-a279-235b30c34b2c",
   "metadata": {},
   "outputs": [],
   "source": []
  },
  {
   "cell_type": "code",
   "execution_count": null,
   "id": "44883c6f-605b-4edd-a808-69d127a76efb",
   "metadata": {},
   "outputs": [],
   "source": []
  },
  {
   "cell_type": "code",
   "execution_count": null,
   "id": "c98b9a57-5d84-4d6a-88c3-ba491991f67d",
   "metadata": {},
   "outputs": [],
   "source": []
  }
 ],
 "metadata": {
  "kernelspec": {
   "display_name": "Python 3",
   "language": "python",
   "name": "python3"
  },
  "language_info": {
   "codemirror_mode": {
    "name": "ipython",
    "version": 3
   },
   "file_extension": ".py",
   "mimetype": "text/x-python",
   "name": "python",
   "nbconvert_exporter": "python",
   "pygments_lexer": "ipython3",
   "version": "3.7.11"
  }
 },
 "nbformat": 4,
 "nbformat_minor": 5
}
